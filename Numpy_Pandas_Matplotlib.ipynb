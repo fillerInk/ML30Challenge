{
  "nbformat": 4,
  "nbformat_minor": 0,
  "metadata": {
    "colab": {
      "name": "Numpy, Pandas, Matplotlib.ipynb",
      "version": "0.3.2",
      "provenance": [],
      "collapsed_sections": [],
      "include_colab_link": true
    },
    "kernelspec": {
      "name": "python3",
      "display_name": "Python 3"
    }
  },
  "cells": [
    {
      "cell_type": "markdown",
      "metadata": {
        "id": "view-in-github",
        "colab_type": "text"
      },
      "source": [
        "<a href=\"https://colab.research.google.com/github/fillerInk/ML30Challenge/blob/master/Numpy_Pandas_Matplotlib.ipynb\" target=\"_parent\"><img src=\"https://colab.research.google.com/assets/colab-badge.svg\" alt=\"Open In Colab\"/></a>"
      ]
    },
    {
      "cell_type": "code",
      "metadata": {
        "id": "b6ARi-BbdkFq",
        "colab_type": "code",
        "colab": {}
      },
      "source": [
        "import numpy as np\n",
        "import pandas as pd\n",
        "import matplotlib.pyplot as plt"
      ],
      "execution_count": 0,
      "outputs": []
    },
    {
      "cell_type": "code",
      "metadata": {
        "id": "_KcADP26La6o",
        "colab_type": "code",
        "colab": {}
      },
      "source": [
        "x = np.array([1,2,3])"
      ],
      "execution_count": 0,
      "outputs": []
    },
    {
      "cell_type": "code",
      "metadata": {
        "id": "T1gHE75LLnzP",
        "colab_type": "code",
        "outputId": "63d4a56f-e8ad-4cb1-cfd1-d82c5bf8f46b",
        "colab": {
          "base_uri": "https://localhost:8080/",
          "height": 34
        }
      },
      "source": [
        "print(x)"
      ],
      "execution_count": 0,
      "outputs": [
        {
          "output_type": "stream",
          "text": [
            "[1 2 3]\n"
          ],
          "name": "stdout"
        }
      ]
    },
    {
      "cell_type": "code",
      "metadata": {
        "id": "HqhCo4NFLqdL",
        "colab_type": "code",
        "outputId": "215bed4d-84a4-4a50-c796-7664b39b533b",
        "colab": {
          "base_uri": "https://localhost:8080/",
          "height": 34
        }
      },
      "source": [
        "type(x)"
      ],
      "execution_count": 0,
      "outputs": [
        {
          "output_type": "execute_result",
          "data": {
            "text/plain": [
              "numpy.ndarray"
            ]
          },
          "metadata": {
            "tags": []
          },
          "execution_count": 5
        }
      ]
    },
    {
      "cell_type": "code",
      "metadata": {
        "id": "nEfJA_MyLsxL",
        "colab_type": "code",
        "colab": {}
      },
      "source": [
        "y = np.array([2,3,4])"
      ],
      "execution_count": 0,
      "outputs": []
    },
    {
      "cell_type": "code",
      "metadata": {
        "id": "yBcGacDbL3y0",
        "colab_type": "code",
        "colab": {}
      },
      "source": [
        "z = np.dot(x,y)"
      ],
      "execution_count": 0,
      "outputs": []
    },
    {
      "cell_type": "code",
      "metadata": {
        "id": "jISzdezrL9qU",
        "colab_type": "code",
        "outputId": "303cb8b5-0ba4-4472-fe9f-2b0c57d2e477",
        "colab": {
          "base_uri": "https://localhost:8080/",
          "height": 34
        }
      },
      "source": [
        "print(z)"
      ],
      "execution_count": 0,
      "outputs": [
        {
          "output_type": "stream",
          "text": [
            "20\n"
          ],
          "name": "stdout"
        }
      ]
    },
    {
      "cell_type": "code",
      "metadata": {
        "id": "a9aCMsY3L--Z",
        "colab_type": "code",
        "outputId": "9bba5e4f-ba93-4702-9738-ba975f74033b",
        "colab": {
          "base_uri": "https://localhost:8080/",
          "height": 34
        }
      },
      "source": [
        "z =0\n",
        "for element in range (0,3):\n",
        "  z = z + (x[element]*y[element])\n",
        "print(z)  "
      ],
      "execution_count": 0,
      "outputs": [
        {
          "output_type": "stream",
          "text": [
            "20\n"
          ],
          "name": "stdout"
        }
      ]
    },
    {
      "cell_type": "code",
      "metadata": {
        "id": "gmKU8CXQMVIy",
        "colab_type": "code",
        "colab": {}
      },
      "source": [
        "a = np.zeros([5])"
      ],
      "execution_count": 0,
      "outputs": []
    },
    {
      "cell_type": "code",
      "metadata": {
        "id": "TkvUWidvNEkp",
        "colab_type": "code",
        "outputId": "c8f2eaaa-8ae7-4f20-abc6-4ba50b2cc544",
        "colab": {
          "base_uri": "https://localhost:8080/",
          "height": 34
        }
      },
      "source": [
        "a"
      ],
      "execution_count": 0,
      "outputs": [
        {
          "output_type": "execute_result",
          "data": {
            "text/plain": [
              "array([0., 0., 0., 0., 0.])"
            ]
          },
          "metadata": {
            "tags": []
          },
          "execution_count": 14
        }
      ]
    },
    {
      "cell_type": "code",
      "metadata": {
        "id": "tRnaFxqUNNWo",
        "colab_type": "code",
        "colab": {}
      },
      "source": [
        "b = np.array([[1,1],[2,2]])"
      ],
      "execution_count": 0,
      "outputs": []
    },
    {
      "cell_type": "code",
      "metadata": {
        "id": "-uUgyNZINwSl",
        "colab_type": "code",
        "outputId": "7344b5f2-6085-4421-89d4-dabaf9267294",
        "colab": {
          "base_uri": "https://localhost:8080/",
          "height": 52
        }
      },
      "source": [
        "b"
      ],
      "execution_count": 0,
      "outputs": [
        {
          "output_type": "execute_result",
          "data": {
            "text/plain": [
              "array([[1, 1],\n",
              "       [2, 2]])"
            ]
          },
          "metadata": {
            "tags": []
          },
          "execution_count": 18
        }
      ]
    },
    {
      "cell_type": "code",
      "metadata": {
        "id": "uAg_2CgrN2XJ",
        "colab_type": "code",
        "outputId": "3797af4d-a7f0-4ff8-f50f-b79aa2bccfc8",
        "colab": {
          "base_uri": "https://localhost:8080/",
          "height": 34
        }
      },
      "source": [
        "b.shape"
      ],
      "execution_count": 0,
      "outputs": [
        {
          "output_type": "execute_result",
          "data": {
            "text/plain": [
              "(2, 2)"
            ]
          },
          "metadata": {
            "tags": []
          },
          "execution_count": 19
        }
      ]
    },
    {
      "cell_type": "code",
      "metadata": {
        "id": "nIgoNwZcOM8O",
        "colab_type": "code",
        "colab": {}
      },
      "source": [
        "b = b.reshape(1,4)"
      ],
      "execution_count": 0,
      "outputs": []
    },
    {
      "cell_type": "code",
      "metadata": {
        "id": "yt3MDiqOOQJv",
        "colab_type": "code",
        "outputId": "34afc177-0ed7-46ff-e6ca-40a312d05ea3",
        "colab": {
          "base_uri": "https://localhost:8080/",
          "height": 34
        }
      },
      "source": [
        "b"
      ],
      "execution_count": 0,
      "outputs": [
        {
          "output_type": "execute_result",
          "data": {
            "text/plain": [
              "array([[1, 1, 2, 2]])"
            ]
          },
          "metadata": {
            "tags": []
          },
          "execution_count": 21
        }
      ]
    },
    {
      "cell_type": "code",
      "metadata": {
        "id": "xMsHTd6IOQ8w",
        "colab_type": "code",
        "outputId": "f15470d6-58b3-4ece-b2a4-dcb895bbf72d",
        "colab": {
          "base_uri": "https://localhost:8080/",
          "height": 121
        }
      },
      "source": [
        "dict = {\"country\": [\"Brazil\", \"Russia\", \"India\", \"China\", \"South Africa\"],\n",
        "       \"capital\": [\"Brasilia\", \"Moscow\", \"New Dehli\", \"Beijing\", \"Pretoria\"],\n",
        "       \"area\": [8.516, 17.10, 3.286, 9.597, 1.221],\n",
        "       \"population\": [200.4, 143.5, 1252, 1357, 52.98] }\n",
        "\n",
        "brics = pd.DataFrame(dict)\n",
        "print(brics)"
      ],
      "execution_count": 0,
      "outputs": [
        {
          "output_type": "stream",
          "text": [
            "        country    capital    area  population\n",
            "0        Brazil   Brasilia   8.516      200.40\n",
            "1        Russia     Moscow  17.100      143.50\n",
            "2         India  New Dehli   3.286     1252.00\n",
            "3         China    Beijing   9.597     1357.00\n",
            "4  South Africa   Pretoria   1.221       52.98\n"
          ],
          "name": "stdout"
        }
      ]
    },
    {
      "cell_type": "code",
      "metadata": {
        "id": "HhmTMKT8PlL0",
        "colab_type": "code",
        "outputId": "3fe2dd62-5ccc-4403-96c5-c3399f91b87e",
        "colab": {
          "base_uri": "https://localhost:8080/",
          "height": 198
        }
      },
      "source": [
        "brics.drop('country',axis=1)"
      ],
      "execution_count": 0,
      "outputs": [
        {
          "output_type": "execute_result",
          "data": {
            "text/html": [
              "<div>\n",
              "<style scoped>\n",
              "    .dataframe tbody tr th:only-of-type {\n",
              "        vertical-align: middle;\n",
              "    }\n",
              "\n",
              "    .dataframe tbody tr th {\n",
              "        vertical-align: top;\n",
              "    }\n",
              "\n",
              "    .dataframe thead th {\n",
              "        text-align: right;\n",
              "    }\n",
              "</style>\n",
              "<table border=\"1\" class=\"dataframe\">\n",
              "  <thead>\n",
              "    <tr style=\"text-align: right;\">\n",
              "      <th></th>\n",
              "      <th>capital</th>\n",
              "      <th>area</th>\n",
              "      <th>population</th>\n",
              "    </tr>\n",
              "  </thead>\n",
              "  <tbody>\n",
              "    <tr>\n",
              "      <th>0</th>\n",
              "      <td>Brasilia</td>\n",
              "      <td>8.516</td>\n",
              "      <td>200.40</td>\n",
              "    </tr>\n",
              "    <tr>\n",
              "      <th>1</th>\n",
              "      <td>Moscow</td>\n",
              "      <td>17.100</td>\n",
              "      <td>143.50</td>\n",
              "    </tr>\n",
              "    <tr>\n",
              "      <th>2</th>\n",
              "      <td>New Dehli</td>\n",
              "      <td>3.286</td>\n",
              "      <td>1252.00</td>\n",
              "    </tr>\n",
              "    <tr>\n",
              "      <th>3</th>\n",
              "      <td>Beijing</td>\n",
              "      <td>9.597</td>\n",
              "      <td>1357.00</td>\n",
              "    </tr>\n",
              "    <tr>\n",
              "      <th>4</th>\n",
              "      <td>Pretoria</td>\n",
              "      <td>1.221</td>\n",
              "      <td>52.98</td>\n",
              "    </tr>\n",
              "  </tbody>\n",
              "</table>\n",
              "</div>"
            ],
            "text/plain": [
              "     capital    area  population\n",
              "0   Brasilia   8.516      200.40\n",
              "1     Moscow  17.100      143.50\n",
              "2  New Dehli   3.286     1252.00\n",
              "3    Beijing   9.597     1357.00\n",
              "4   Pretoria   1.221       52.98"
            ]
          },
          "metadata": {
            "tags": []
          },
          "execution_count": 24
        }
      ]
    },
    {
      "cell_type": "code",
      "metadata": {
        "id": "8WUrHjufPoKi",
        "colab_type": "code",
        "colab": {}
      },
      "source": [
        "\n",
        "data = pd.read_csv('sample_data/california_housing_test.csv')"
      ],
      "execution_count": 0,
      "outputs": []
    },
    {
      "cell_type": "code",
      "metadata": {
        "id": "9vnzdrhFQRxl",
        "colab_type": "code",
        "outputId": "eb9f6ba0-fc5f-473d-c0ca-e1919f2940e2",
        "colab": {
          "base_uri": "https://localhost:8080/",
          "height": 1000
        }
      },
      "source": [
        "print(data)"
      ],
      "execution_count": 0,
      "outputs": [
        {
          "output_type": "stream",
          "text": [
            "      longitude  latitude  ...  median_income  median_house_value\n",
            "0       -122.05     37.37  ...         6.6085            344700.0\n",
            "1       -118.30     34.26  ...         3.5990            176500.0\n",
            "2       -117.81     33.78  ...         5.7934            270500.0\n",
            "3       -118.36     33.82  ...         6.1359            330000.0\n",
            "4       -119.67     36.33  ...         2.9375             81700.0\n",
            "5       -119.56     36.51  ...         1.6635             67000.0\n",
            "6       -121.43     38.63  ...         1.6641             67000.0\n",
            "7       -120.65     35.48  ...         3.2250            166900.0\n",
            "8       -122.84     38.40  ...         3.6696            194400.0\n",
            "9       -118.02     34.08  ...         2.3333            164200.0\n",
            "10      -118.24     33.98  ...         2.2054            125000.0\n",
            "11      -119.12     35.85  ...         2.4167             58300.0\n",
            "12      -121.93     37.25  ...         4.6900            252600.0\n",
            "13      -117.03     32.97  ...         4.5625            231200.0\n",
            "14      -117.97     33.73  ...         5.7121            222500.0\n",
            "15      -117.99     33.81  ...         2.2000            153100.0\n",
            "16      -120.81     37.53  ...         1.8750            181300.0\n",
            "17      -121.20     38.69  ...         2.7174            137500.0\n",
            "18      -118.88     34.21  ...         6.5851            300000.0\n",
            "19      -122.59     38.01  ...         6.1724            414300.0\n",
            "20      -122.15     37.75  ...         3.8913            126300.0\n",
            "21      -121.37     38.68  ...         3.1786             83400.0\n",
            "22      -118.16     34.07  ...         3.8644            241500.0\n",
            "23      -122.20     37.79  ...         2.7788            115400.0\n",
            "24      -117.28     33.28  ...         3.8156            150700.0\n",
            "25      -118.03     34.16  ...         7.1615            484700.0\n",
            "26      -122.42     37.76  ...         2.5403            250000.0\n",
            "27      -118.39     33.99  ...         6.6030            369200.0\n",
            "28      -118.45     34.07  ...         1.5830            350000.0\n",
            "29      -118.48     34.01  ...         3.4852            425000.0\n",
            "...         ...       ...  ...            ...                 ...\n",
            "2970    -122.47     37.77  ...         4.1635            398400.0\n",
            "2971    -120.93     35.76  ...         3.2300            154300.0\n",
            "2972    -118.14     34.17  ...         4.0524            173100.0\n",
            "2973    -122.73     38.46  ...         2.0651            135400.0\n",
            "2974    -117.06     32.76  ...         2.9650            155700.0\n",
            "2975    -120.71     35.50  ...         5.2508            292900.0\n",
            "2976    -118.31     34.05  ...         2.5313            305800.0\n",
            "2977    -119.70     36.75  ...         2.4956             87500.0\n",
            "2978    -121.34     38.64  ...         3.7562            139700.0\n",
            "2979    -117.91     34.09  ...         3.0441            185400.0\n",
            "2980    -119.76     36.79  ...         3.3281             75100.0\n",
            "2981    -120.66     35.49  ...         2.8285            171300.0\n",
            "2982    -118.28     34.08  ...         3.1607            182000.0\n",
            "2983    -122.54     37.90  ...         4.4375            370000.0\n",
            "2984    -117.59     33.88  ...         2.6111            107000.0\n",
            "2985    -120.47     34.94  ...         1.8633            109400.0\n",
            "2986    -118.25     33.93  ...         1.1346             85400.0\n",
            "2987    -121.97     37.29  ...         5.3294            300300.0\n",
            "2988    -122.01     36.97  ...         2.5417            260900.0\n",
            "2989    -122.02     37.60  ...         3.2386            149600.0\n",
            "2990    -118.23     34.09  ...         2.6923            150000.0\n",
            "2991    -117.17     34.28  ...         7.1997            253800.0\n",
            "2992    -122.33     37.39  ...         6.2263            500001.0\n",
            "2993    -117.91     33.60  ...         5.1048            500001.0\n",
            "2994    -117.93     33.86  ...         5.5867            182500.0\n",
            "2995    -119.86     34.42  ...         1.1790            225000.0\n",
            "2996    -118.14     34.06  ...         3.3906            237200.0\n",
            "2997    -119.70     36.30  ...         2.2895             62000.0\n",
            "2998    -117.12     34.10  ...         3.2708            162500.0\n",
            "2999    -119.63     34.42  ...         8.5608            500001.0\n",
            "\n",
            "[3000 rows x 9 columns]\n"
          ],
          "name": "stdout"
        }
      ]
    },
    {
      "cell_type": "code",
      "metadata": {
        "id": "cvavwMpwRatA",
        "colab_type": "code",
        "outputId": "33484b25-6821-469c-bf26-f867f1b92424",
        "colab": {
          "base_uri": "https://localhost:8080/",
          "height": 34
        }
      },
      "source": [
        "data.shape"
      ],
      "execution_count": 0,
      "outputs": [
        {
          "output_type": "execute_result",
          "data": {
            "text/plain": [
              "(3000, 9)"
            ]
          },
          "metadata": {
            "tags": []
          },
          "execution_count": 34
        }
      ]
    },
    {
      "cell_type": "code",
      "metadata": {
        "id": "-rf3WLScRlt-",
        "colab_type": "code",
        "outputId": "27eba100-5d97-4c25-8955-031e5c78277a",
        "colab": {
          "base_uri": "https://localhost:8080/",
          "height": 34
        }
      },
      "source": [
        "type(data)"
      ],
      "execution_count": 0,
      "outputs": [
        {
          "output_type": "execute_result",
          "data": {
            "text/plain": [
              "pandas.core.frame.DataFrame"
            ]
          },
          "metadata": {
            "tags": []
          },
          "execution_count": 35
        }
      ]
    },
    {
      "cell_type": "code",
      "metadata": {
        "id": "TmzyREJ7Ro7U",
        "colab_type": "code",
        "outputId": "68dbb374-3ee9-4615-8b81-4e23d17987f2",
        "colab": {
          "base_uri": "https://localhost:8080/",
          "height": 198
        }
      },
      "source": [
        "data.head()"
      ],
      "execution_count": 0,
      "outputs": [
        {
          "output_type": "execute_result",
          "data": {
            "text/html": [
              "<div>\n",
              "<style scoped>\n",
              "    .dataframe tbody tr th:only-of-type {\n",
              "        vertical-align: middle;\n",
              "    }\n",
              "\n",
              "    .dataframe tbody tr th {\n",
              "        vertical-align: top;\n",
              "    }\n",
              "\n",
              "    .dataframe thead th {\n",
              "        text-align: right;\n",
              "    }\n",
              "</style>\n",
              "<table border=\"1\" class=\"dataframe\">\n",
              "  <thead>\n",
              "    <tr style=\"text-align: right;\">\n",
              "      <th></th>\n",
              "      <th>longitude</th>\n",
              "      <th>latitude</th>\n",
              "      <th>housing_median_age</th>\n",
              "      <th>total_rooms</th>\n",
              "      <th>total_bedrooms</th>\n",
              "      <th>population</th>\n",
              "      <th>households</th>\n",
              "      <th>median_income</th>\n",
              "      <th>median_house_value</th>\n",
              "    </tr>\n",
              "  </thead>\n",
              "  <tbody>\n",
              "    <tr>\n",
              "      <th>0</th>\n",
              "      <td>-122.05</td>\n",
              "      <td>37.37</td>\n",
              "      <td>27.0</td>\n",
              "      <td>3885.0</td>\n",
              "      <td>661.0</td>\n",
              "      <td>1537.0</td>\n",
              "      <td>606.0</td>\n",
              "      <td>6.6085</td>\n",
              "      <td>344700.0</td>\n",
              "    </tr>\n",
              "    <tr>\n",
              "      <th>1</th>\n",
              "      <td>-118.30</td>\n",
              "      <td>34.26</td>\n",
              "      <td>43.0</td>\n",
              "      <td>1510.0</td>\n",
              "      <td>310.0</td>\n",
              "      <td>809.0</td>\n",
              "      <td>277.0</td>\n",
              "      <td>3.5990</td>\n",
              "      <td>176500.0</td>\n",
              "    </tr>\n",
              "    <tr>\n",
              "      <th>2</th>\n",
              "      <td>-117.81</td>\n",
              "      <td>33.78</td>\n",
              "      <td>27.0</td>\n",
              "      <td>3589.0</td>\n",
              "      <td>507.0</td>\n",
              "      <td>1484.0</td>\n",
              "      <td>495.0</td>\n",
              "      <td>5.7934</td>\n",
              "      <td>270500.0</td>\n",
              "    </tr>\n",
              "    <tr>\n",
              "      <th>3</th>\n",
              "      <td>-118.36</td>\n",
              "      <td>33.82</td>\n",
              "      <td>28.0</td>\n",
              "      <td>67.0</td>\n",
              "      <td>15.0</td>\n",
              "      <td>49.0</td>\n",
              "      <td>11.0</td>\n",
              "      <td>6.1359</td>\n",
              "      <td>330000.0</td>\n",
              "    </tr>\n",
              "    <tr>\n",
              "      <th>4</th>\n",
              "      <td>-119.67</td>\n",
              "      <td>36.33</td>\n",
              "      <td>19.0</td>\n",
              "      <td>1241.0</td>\n",
              "      <td>244.0</td>\n",
              "      <td>850.0</td>\n",
              "      <td>237.0</td>\n",
              "      <td>2.9375</td>\n",
              "      <td>81700.0</td>\n",
              "    </tr>\n",
              "  </tbody>\n",
              "</table>\n",
              "</div>"
            ],
            "text/plain": [
              "   longitude  latitude  ...  median_income  median_house_value\n",
              "0    -122.05     37.37  ...         6.6085            344700.0\n",
              "1    -118.30     34.26  ...         3.5990            176500.0\n",
              "2    -117.81     33.78  ...         5.7934            270500.0\n",
              "3    -118.36     33.82  ...         6.1359            330000.0\n",
              "4    -119.67     36.33  ...         2.9375             81700.0\n",
              "\n",
              "[5 rows x 9 columns]"
            ]
          },
          "metadata": {
            "tags": []
          },
          "execution_count": 36
        }
      ]
    },
    {
      "cell_type": "code",
      "metadata": {
        "id": "9TCtIFi2Rsw7",
        "colab_type": "code",
        "outputId": "86130a28-1b5e-4a20-e330-35f935072105",
        "colab": {
          "base_uri": "https://localhost:8080/",
          "height": 198
        }
      },
      "source": [
        "data.tail()"
      ],
      "execution_count": 0,
      "outputs": [
        {
          "output_type": "execute_result",
          "data": {
            "text/html": [
              "<div>\n",
              "<style scoped>\n",
              "    .dataframe tbody tr th:only-of-type {\n",
              "        vertical-align: middle;\n",
              "    }\n",
              "\n",
              "    .dataframe tbody tr th {\n",
              "        vertical-align: top;\n",
              "    }\n",
              "\n",
              "    .dataframe thead th {\n",
              "        text-align: right;\n",
              "    }\n",
              "</style>\n",
              "<table border=\"1\" class=\"dataframe\">\n",
              "  <thead>\n",
              "    <tr style=\"text-align: right;\">\n",
              "      <th></th>\n",
              "      <th>longitude</th>\n",
              "      <th>latitude</th>\n",
              "      <th>housing_median_age</th>\n",
              "      <th>total_rooms</th>\n",
              "      <th>total_bedrooms</th>\n",
              "      <th>population</th>\n",
              "      <th>households</th>\n",
              "      <th>median_income</th>\n",
              "      <th>median_house_value</th>\n",
              "    </tr>\n",
              "  </thead>\n",
              "  <tbody>\n",
              "    <tr>\n",
              "      <th>2995</th>\n",
              "      <td>-119.86</td>\n",
              "      <td>34.42</td>\n",
              "      <td>23.0</td>\n",
              "      <td>1450.0</td>\n",
              "      <td>642.0</td>\n",
              "      <td>1258.0</td>\n",
              "      <td>607.0</td>\n",
              "      <td>1.1790</td>\n",
              "      <td>225000.0</td>\n",
              "    </tr>\n",
              "    <tr>\n",
              "      <th>2996</th>\n",
              "      <td>-118.14</td>\n",
              "      <td>34.06</td>\n",
              "      <td>27.0</td>\n",
              "      <td>5257.0</td>\n",
              "      <td>1082.0</td>\n",
              "      <td>3496.0</td>\n",
              "      <td>1036.0</td>\n",
              "      <td>3.3906</td>\n",
              "      <td>237200.0</td>\n",
              "    </tr>\n",
              "    <tr>\n",
              "      <th>2997</th>\n",
              "      <td>-119.70</td>\n",
              "      <td>36.30</td>\n",
              "      <td>10.0</td>\n",
              "      <td>956.0</td>\n",
              "      <td>201.0</td>\n",
              "      <td>693.0</td>\n",
              "      <td>220.0</td>\n",
              "      <td>2.2895</td>\n",
              "      <td>62000.0</td>\n",
              "    </tr>\n",
              "    <tr>\n",
              "      <th>2998</th>\n",
              "      <td>-117.12</td>\n",
              "      <td>34.10</td>\n",
              "      <td>40.0</td>\n",
              "      <td>96.0</td>\n",
              "      <td>14.0</td>\n",
              "      <td>46.0</td>\n",
              "      <td>14.0</td>\n",
              "      <td>3.2708</td>\n",
              "      <td>162500.0</td>\n",
              "    </tr>\n",
              "    <tr>\n",
              "      <th>2999</th>\n",
              "      <td>-119.63</td>\n",
              "      <td>34.42</td>\n",
              "      <td>42.0</td>\n",
              "      <td>1765.0</td>\n",
              "      <td>263.0</td>\n",
              "      <td>753.0</td>\n",
              "      <td>260.0</td>\n",
              "      <td>8.5608</td>\n",
              "      <td>500001.0</td>\n",
              "    </tr>\n",
              "  </tbody>\n",
              "</table>\n",
              "</div>"
            ],
            "text/plain": [
              "      longitude  latitude  ...  median_income  median_house_value\n",
              "2995    -119.86     34.42  ...         1.1790            225000.0\n",
              "2996    -118.14     34.06  ...         3.3906            237200.0\n",
              "2997    -119.70     36.30  ...         2.2895             62000.0\n",
              "2998    -117.12     34.10  ...         3.2708            162500.0\n",
              "2999    -119.63     34.42  ...         8.5608            500001.0\n",
              "\n",
              "[5 rows x 9 columns]"
            ]
          },
          "metadata": {
            "tags": []
          },
          "execution_count": 37
        }
      ]
    },
    {
      "cell_type": "code",
      "metadata": {
        "id": "RHIMRXR1SQCy",
        "colab_type": "code",
        "outputId": "9d02e3b9-d92a-4047-c225-9eac769b02f0",
        "colab": {
          "base_uri": "https://localhost:8080/",
          "height": 72
        }
      },
      "source": [
        "x = []\n",
        "\n",
        "y = []\n",
        "\n",
        "for i in range(0,50):\n",
        "  x.append(i)\n",
        "  y.append(i*i)\n",
        "\n",
        "print(x) \n",
        "print(y)"
      ],
      "execution_count": 0,
      "outputs": [
        {
          "output_type": "stream",
          "text": [
            "[0, 1, 2, 3, 4, 5, 6, 7, 8, 9, 10, 11, 12, 13, 14, 15, 16, 17, 18, 19, 20, 21, 22, 23, 24, 25, 26, 27, 28, 29, 30, 31, 32, 33, 34, 35, 36, 37, 38, 39, 40, 41, 42, 43, 44, 45, 46, 47, 48, 49]\n",
            "[0, 1, 4, 9, 16, 25, 36, 49, 64, 81, 100, 121, 144, 169, 196, 225, 256, 289, 324, 361, 400, 441, 484, 529, 576, 625, 676, 729, 784, 841, 900, 961, 1024, 1089, 1156, 1225, 1296, 1369, 1444, 1521, 1600, 1681, 1764, 1849, 1936, 2025, 2116, 2209, 2304, 2401]\n"
          ],
          "name": "stdout"
        }
      ]
    },
    {
      "cell_type": "code",
      "metadata": {
        "id": "iqvUOQp3TAcH",
        "colab_type": "code",
        "outputId": "3df400f0-bae8-4eca-cb18-d46eed016b53",
        "colab": {
          "base_uri": "https://localhost:8080/",
          "height": 295
        }
      },
      "source": [
        "x = [5,8,10]\n",
        "y = [12,16,6]\n",
        "\n",
        "x2 = [6,9,11]\n",
        "y2 = [6,15,7]\n",
        "\n",
        "\n",
        "plt.scatter(x,y,color=\"blue\")\n",
        "plt.scatter(x2,y2,color='red')\n",
        "plt.title(\"AWesome Graph\")\n",
        "plt.xlabel(\"X\")\n",
        "plt.ylabel(\"X^2\")\n",
        "plt.show()"
      ],
      "execution_count": 0,
      "outputs": [
        {
          "output_type": "display_data",
          "data": {
            "image/png": "[encoded data removed]",
            "text/plain": [
              "<Figure size 432x288 with 1 Axes>"
            ]
          },
          "metadata": {
            "tags": []
          }
        }
      ]
    },
    {
      "cell_type": "code",
      "metadata": {
        "id": "0E7IZnOATSBe",
        "colab_type": "code",
        "outputId": "b0c31f3f-3481-4e2c-9599-97c03074d9c3",
        "colab": {
          "base_uri": "https://localhost:8080/",
          "height": 287
        }
      },
      "source": [
        "plt.bar(data.housing_median_age,data.total_bedrooms)"
      ],
      "execution_count": 0,
      "outputs": [
        {
          "output_type": "execute_result",
          "data": {
            "text/plain": [
              "<BarContainer object of 3000 artists>"
            ]
          },
          "metadata": {
            "tags": []
          },
          "execution_count": 70
        },
        {
          "output_type": "display_data",
          "data": {
            "image/png": "[encoded data removed]",
            "text/plain": [
              "<Figure size 432x288 with 1 Axes>"
            ]
          },
          "metadata": {
            "tags": []
          }
        }
      ]
    },
    {
      "cell_type": "code",
      "metadata": {
        "id": "fsnU-T0lWOLO",
        "colab_type": "code",
        "colab": {}
      },
      "source": [
        ""
      ],
      "execution_count": 0,
      "outputs": []
    }
  ]
}